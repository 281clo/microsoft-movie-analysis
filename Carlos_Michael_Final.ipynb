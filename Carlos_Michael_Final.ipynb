{
 "cells": [
  {
   "cell_type": "markdown",
   "metadata": {},
   "source": [
    "![example](images/director_shot.jpeg)"
   ]
  },
  {
   "cell_type": "markdown",
   "metadata": {},
   "source": [
    "# Is It Time For A Sci-Fi Summer Adventure?\n",
    "\n",
    "**Authors:** Doug, Carlos, Michael\n",
    "***"
   ]
  },
  {
   "cell_type": "markdown",
   "metadata": {},
   "source": [
    "## Overview\n",
    "\n",
    "* What Better Way To Launch Microsoft's New Movie Other Than An Original Blockbuster Series?! We sift through the data to find out when is the best time to produce a film and what type of film people are currently enjoying. \n",
    "\n",
    "\n",
    "A one-paragraph overview of the project, including the business problem, data, methods, results and recommendations."
   ]
  },
  {
   "cell_type": "markdown",
   "metadata": {},
   "source": [
    "## Business Problem\n",
    "\n",
    "We tried to see By creating our own series, we can create more loyal and dedicated fans.\n",
    "But we must do it right. We start off by looking at the seasons to see where the best times to release \n",
    "a movie are and when is a bad time to have a big release. We also looked throuh the different genres to see\n",
    "what films people are going to and paying for to narrow down their intrest. With this we can target our audiance \n",
    "to see where some opportunities may have been missed!\n",
    "\n",
    "*Summary of the business problem you are trying to solve, and the data questions that you plan to answer to solve them.\n",
    "***\n",
    "Questions to consider:\n",
    "* What are the business's pain points related to this project?\n",
    "* How did you pick the data analysis question(s) that you did?\n",
    "* Why are these questions important from a business perspective?\n",
    "***"
   ]
  },
  {
   "cell_type": "markdown",
   "metadata": {},
   "source": [
    "## Data Understanding\n",
    "\n",
    "We went through different databases and combined from Box Office Mojo, IMBD, and The-Numbers to get a better general overview of not only peoples intreest but also what time of year they were seeing these movies. Our target variables were dates and genres corresponding to the gross income from foreign and domestic movies. \n",
    "***\n",
    "Questions to consider:\n",
    "* Where did the data come from, and how do they relate to the data analysis questions?\n",
    "* What do the data represent? Who is in the sample and what variables are included?\n",
    "* What is the target variable?\n",
    "* What are the properties of the variables you intend to use?\n",
    "***"
   ]
  },
  {
   "cell_type": "code",
   "execution_count": 58,
   "metadata": {},
   "outputs": [],
   "source": [
    "#Import all necessary packages\n",
    "import pandas as pd\n",
    "import matplotlib.pyplot as plt\n",
    "%matplotlib inline\n",
    "import gzip\n",
    "import csv\n",
    "import numpy as np\n",
    "import seaborn as sns\n",
    "from matplotlib import style"
   ]
  },
  {
   "cell_type": "code",
   "execution_count": 59,
   "metadata": {},
   "outputs": [],
   "source": [
    "# Load dataset 1 'bom.movie_gross' obtained from Box Office Mojo\n",
    "df1 = pd.read_csv('data/zippedData/bom.movie_gross.csv.gz')\n",
    "df1 = df1.rename(columns = {'title':'movie'})\n",
    "\n",
    "# Load dataset 4 'imbd.title.basics' obtained from IMDB\n",
    "df4 = pd.read_csv('data/zippedData/imdb.title.basics.csv.gz')\n",
    "df4 = df4.rename(columns = {'primary_title':'movie'})\n",
    "\n",
    "# Load dataset 11 'tn.movie_budgets' from The-Numbers\n",
    "df11 = pd.read_csv('data/zippedData/tn.movie_budgets.csv.gz')\n"
   ]
  },
  {
   "cell_type": "markdown",
   "metadata": {},
   "source": [
    "## Data Preparation\n",
    "\n",
    "* First we set all our gross values and our dates into integers so that we can work with them to calculate totals from the The-Numbers dataframe then we take only the movies with budget above 1 million dollars.  "
   ]
  },
  {
   "cell_type": "code",
   "execution_count": 60,
   "metadata": {},
   "outputs": [
    {
     "data": {
      "text/html": [
       "<div>\n",
       "<style scoped>\n",
       "    .dataframe tbody tr th:only-of-type {\n",
       "        vertical-align: middle;\n",
       "    }\n",
       "\n",
       "    .dataframe tbody tr th {\n",
       "        vertical-align: top;\n",
       "    }\n",
       "\n",
       "    .dataframe thead th {\n",
       "        text-align: right;\n",
       "    }\n",
       "</style>\n",
       "<table border=\"1\" class=\"dataframe\">\n",
       "  <thead>\n",
       "    <tr style=\"text-align: right;\">\n",
       "      <th></th>\n",
       "      <th>id</th>\n",
       "      <th>release_date</th>\n",
       "      <th>production_budget</th>\n",
       "      <th>domestic_gross</th>\n",
       "      <th>worldwide_gross</th>\n",
       "    </tr>\n",
       "    <tr>\n",
       "      <th>movie</th>\n",
       "      <th></th>\n",
       "      <th></th>\n",
       "      <th></th>\n",
       "      <th></th>\n",
       "      <th></th>\n",
       "    </tr>\n",
       "  </thead>\n",
       "  <tbody>\n",
       "    <tr>\n",
       "      <th>Avatar</th>\n",
       "      <td>1</td>\n",
       "      <td>Dec 18, 2009</td>\n",
       "      <td>425000000</td>\n",
       "      <td>760507625</td>\n",
       "      <td>2776345279</td>\n",
       "    </tr>\n",
       "    <tr>\n",
       "      <th>Pirates of the Caribbean: On Stranger Tides</th>\n",
       "      <td>2</td>\n",
       "      <td>May 20, 2011</td>\n",
       "      <td>410600000</td>\n",
       "      <td>241063875</td>\n",
       "      <td>1045663875</td>\n",
       "    </tr>\n",
       "    <tr>\n",
       "      <th>Dark Phoenix</th>\n",
       "      <td>3</td>\n",
       "      <td>Jun 7, 2019</td>\n",
       "      <td>350000000</td>\n",
       "      <td>42762350</td>\n",
       "      <td>149762350</td>\n",
       "    </tr>\n",
       "    <tr>\n",
       "      <th>Avengers: Age of Ultron</th>\n",
       "      <td>4</td>\n",
       "      <td>May 1, 2015</td>\n",
       "      <td>330600000</td>\n",
       "      <td>459005868</td>\n",
       "      <td>1403013963</td>\n",
       "    </tr>\n",
       "    <tr>\n",
       "      <th>Star Wars Ep. VIII: The Last Jedi</th>\n",
       "      <td>5</td>\n",
       "      <td>Dec 15, 2017</td>\n",
       "      <td>317000000</td>\n",
       "      <td>620181382</td>\n",
       "      <td>1316721747</td>\n",
       "    </tr>\n",
       "    <tr>\n",
       "      <th>...</th>\n",
       "      <td>...</td>\n",
       "      <td>...</td>\n",
       "      <td>...</td>\n",
       "      <td>...</td>\n",
       "      <td>...</td>\n",
       "    </tr>\n",
       "    <tr>\n",
       "      <th>Fiza</th>\n",
       "      <td>59</td>\n",
       "      <td>Sep 8, 2000</td>\n",
       "      <td>1000000</td>\n",
       "      <td>623791</td>\n",
       "      <td>1179462</td>\n",
       "    </tr>\n",
       "    <tr>\n",
       "      <th>Ajami</th>\n",
       "      <td>60</td>\n",
       "      <td>Feb 3, 2010</td>\n",
       "      <td>1000000</td>\n",
       "      <td>621859</td>\n",
       "      <td>2721096</td>\n",
       "    </tr>\n",
       "    <tr>\n",
       "      <th>The Future</th>\n",
       "      <td>62</td>\n",
       "      <td>Jul 29, 2011</td>\n",
       "      <td>1000000</td>\n",
       "      <td>568662</td>\n",
       "      <td>1239174</td>\n",
       "    </tr>\n",
       "    <tr>\n",
       "      <th>The Act of Killing</th>\n",
       "      <td>66</td>\n",
       "      <td>Jul 19, 2013</td>\n",
       "      <td>1000000</td>\n",
       "      <td>486919</td>\n",
       "      <td>1227316</td>\n",
       "    </tr>\n",
       "    <tr>\n",
       "      <th>Chocolate: Deep Dark Secrets</th>\n",
       "      <td>83</td>\n",
       "      <td>Sep 16, 2005</td>\n",
       "      <td>1000000</td>\n",
       "      <td>49000</td>\n",
       "      <td>1549000</td>\n",
       "    </tr>\n",
       "  </tbody>\n",
       "</table>\n",
       "<p>4631 rows × 5 columns</p>\n",
       "</div>"
      ],
      "text/plain": [
       "                                             id  release_date  \\\n",
       "movie                                                           \n",
       "Avatar                                        1  Dec 18, 2009   \n",
       "Pirates of the Caribbean: On Stranger Tides   2  May 20, 2011   \n",
       "Dark Phoenix                                  3   Jun 7, 2019   \n",
       "Avengers: Age of Ultron                       4   May 1, 2015   \n",
       "Star Wars Ep. VIII: The Last Jedi             5  Dec 15, 2017   \n",
       "...                                          ..           ...   \n",
       "Fiza                                         59   Sep 8, 2000   \n",
       "Ajami                                        60   Feb 3, 2010   \n",
       "The Future                                   62  Jul 29, 2011   \n",
       "The Act of Killing                           66  Jul 19, 2013   \n",
       "Chocolate: Deep Dark Secrets                 83  Sep 16, 2005   \n",
       "\n",
       "                                             production_budget  \\\n",
       "movie                                                            \n",
       "Avatar                                               425000000   \n",
       "Pirates of the Caribbean: On Stranger Tides          410600000   \n",
       "Dark Phoenix                                         350000000   \n",
       "Avengers: Age of Ultron                              330600000   \n",
       "Star Wars Ep. VIII: The Last Jedi                    317000000   \n",
       "...                                                        ...   \n",
       "Fiza                                                   1000000   \n",
       "Ajami                                                  1000000   \n",
       "The Future                                             1000000   \n",
       "The Act of Killing                                     1000000   \n",
       "Chocolate: Deep Dark Secrets                           1000000   \n",
       "\n",
       "                                             domestic_gross  worldwide_gross  \n",
       "movie                                                                         \n",
       "Avatar                                            760507625       2776345279  \n",
       "Pirates of the Caribbean: On Stranger Tides       241063875       1045663875  \n",
       "Dark Phoenix                                       42762350        149762350  \n",
       "Avengers: Age of Ultron                           459005868       1403013963  \n",
       "Star Wars Ep. VIII: The Last Jedi                 620181382       1316721747  \n",
       "...                                                     ...              ...  \n",
       "Fiza                                                 623791          1179462  \n",
       "Ajami                                                621859          2721096  \n",
       "The Future                                           568662          1239174  \n",
       "The Act of Killing                                   486919          1227316  \n",
       "Chocolate: Deep Dark Secrets                          49000          1549000  \n",
       "\n",
       "[4631 rows x 5 columns]"
      ]
     },
     "execution_count": 60,
     "metadata": {},
     "output_type": "execute_result"
    }
   ],
   "source": [
    "# Strip '$' and ',' from the dataset and convert to int64 in order to manipulate the data\n",
    "df11['worldwide_gross'] = df11['worldwide_gross'].str[1:]\n",
    "df11['worldwide_gross'] = df11['worldwide_gross'].str.replace(',', '').astype(np.int64)\n",
    "df11['domestic_gross'] = df11['domestic_gross'].str[1:]\n",
    "df11['domestic_gross'] = df11['domestic_gross'].str.replace(',', '').astype(np.int64)\n",
    "df11['production_budget'] = df11['production_budget'].str[1:]\n",
    "df11['production_budget'] = df11['production_budget'].str.replace(',', '').astype(np.int64)\n",
    "\n",
    "# Filter the data to our criteria\n",
    "production = df11[df11.production_budget < 1000000].index\n",
    "df11.drop(production, inplace=True)\n",
    "worldwide = df11[df11.worldwide_gross < 1000000].index\n",
    "df11.drop(worldwide, inplace=True)\n",
    "df11.set_index('movie')"
   ]
  },
  {
   "cell_type": "markdown",
   "metadata": {},
   "source": [
    "* Esstablishing a combined dataframe"
   ]
  },
  {
   "cell_type": "code",
   "execution_count": 62,
   "metadata": {
    "tags": []
   },
   "outputs": [
    {
     "name": "stderr",
     "output_type": "stream",
     "text": [
      "<ipython-input-62-52f3edb89573>:12: FutureWarning: The default value of regex will change from True to False in a future version. In addition, single character regular expressions will*not* be treated as literal strings when regex=True.\n",
      "  BigFrame['foreign_gross'] = BigFrame['foreign_gross'].str.replace('.', '')\n"
     ]
    }
   ],
   "source": [
    "# Merge the three dataframes together to get 'master' dataframe \"BigFrame\"\n",
    "BigFrame = df11.merge(df1, on='movie').merge(df4, on='movie').drop\\\n",
    "                (columns=['tconst', 'original_title', 'start_year', 'id', 'domestic_gross_y'])\n",
    "# Create 'month' column in order to manipute the data\n",
    "BigFrame = BigFrame.drop_duplicates(subset='movie').set_index('movie')\n",
    "BigFrame['month'] = BigFrame['release_date'].str[:3]\n",
    "# Drop rows with missing values\n",
    "BigFrame = BigFrame.dropna()\n",
    "BigFrame.dropna(inplace=True)\n",
    "# Final dataset has 967 rows\n",
    "BigFrame['foreign_gross'] = BigFrame['foreign_gross'].str.replace(',', '')\n",
    "BigFrame['foreign_gross'] = BigFrame['foreign_gross'].str.replace('.', '')\n",
    "BigFrame['foreign_gross'] = BigFrame['foreign_gross'].astype(np.int64)\n",
    "#Set the Foreign gross to an INT\n",
    "BigFrame.year = BigFrame.year.astype(int)\n",
    "#Set the Year as an INT"
   ]
  },
  {
   "cell_type": "markdown",
   "metadata": {},
   "source": [
    "***"
   ]
  },
  {
   "cell_type": "code",
   "execution_count": 63,
   "metadata": {},
   "outputs": [
    {
     "data": {
      "text/html": [
       "<div>\n",
       "<style scoped>\n",
       "    .dataframe tbody tr th:only-of-type {\n",
       "        vertical-align: middle;\n",
       "    }\n",
       "\n",
       "    .dataframe tbody tr th {\n",
       "        vertical-align: top;\n",
       "    }\n",
       "\n",
       "    .dataframe thead th {\n",
       "        text-align: right;\n",
       "    }\n",
       "</style>\n",
       "<table border=\"1\" class=\"dataframe\">\n",
       "  <thead>\n",
       "    <tr style=\"text-align: right;\">\n",
       "      <th></th>\n",
       "      <th>release_date</th>\n",
       "      <th>production_budget</th>\n",
       "      <th>domestic_gross_x</th>\n",
       "      <th>worldwide_gross</th>\n",
       "      <th>studio</th>\n",
       "      <th>foreign_gross</th>\n",
       "      <th>year</th>\n",
       "      <th>runtime_minutes</th>\n",
       "      <th>genres</th>\n",
       "      <th>month</th>\n",
       "    </tr>\n",
       "    <tr>\n",
       "      <th>movie</th>\n",
       "      <th></th>\n",
       "      <th></th>\n",
       "      <th></th>\n",
       "      <th></th>\n",
       "      <th></th>\n",
       "      <th></th>\n",
       "      <th></th>\n",
       "      <th></th>\n",
       "      <th></th>\n",
       "      <th></th>\n",
       "    </tr>\n",
       "  </thead>\n",
       "  <tbody>\n",
       "    <tr>\n",
       "      <th>Blue Valentine</th>\n",
       "      <td>Dec 29, 2010</td>\n",
       "      <td>1000000</td>\n",
       "      <td>9737892</td>\n",
       "      <td>16566240</td>\n",
       "      <td>Wein.</td>\n",
       "      <td>2600000</td>\n",
       "      <td>2010</td>\n",
       "      <td>112.0</td>\n",
       "      <td>Drama,Romance</td>\n",
       "      <td>Dec</td>\n",
       "    </tr>\n",
       "    <tr>\n",
       "      <th>Unfriended: Dark Web</th>\n",
       "      <td>Jul 20, 2018</td>\n",
       "      <td>1000000</td>\n",
       "      <td>8866745</td>\n",
       "      <td>16434588</td>\n",
       "      <td>BH Tilt</td>\n",
       "      <td>6300000</td>\n",
       "      <td>2018</td>\n",
       "      <td>92.0</td>\n",
       "      <td>Crime,Horror,Mystery</td>\n",
       "      <td>Jul</td>\n",
       "    </tr>\n",
       "    <tr>\n",
       "      <th>The Sessions</th>\n",
       "      <td>Oct 19, 2012</td>\n",
       "      <td>1000000</td>\n",
       "      <td>6002451</td>\n",
       "      <td>11495204</td>\n",
       "      <td>FoxS</td>\n",
       "      <td>3100000</td>\n",
       "      <td>2012</td>\n",
       "      <td>95.0</td>\n",
       "      <td>Biography,Comedy,Drama</td>\n",
       "      <td>Oct</td>\n",
       "    </tr>\n",
       "    <tr>\n",
       "      <th>Martha Marcy May Marlene</th>\n",
       "      <td>Oct 21, 2011</td>\n",
       "      <td>1000000</td>\n",
       "      <td>2981038</td>\n",
       "      <td>5438911</td>\n",
       "      <td>FoxS</td>\n",
       "      <td>548000</td>\n",
       "      <td>2011</td>\n",
       "      <td>102.0</td>\n",
       "      <td>Drama,Mystery,Thriller</td>\n",
       "      <td>Oct</td>\n",
       "    </tr>\n",
       "    <tr>\n",
       "      <th>Patti Cake$</th>\n",
       "      <td>Aug 18, 2017</td>\n",
       "      <td>1000000</td>\n",
       "      <td>800148</td>\n",
       "      <td>1471090</td>\n",
       "      <td>FoxS</td>\n",
       "      <td>682000</td>\n",
       "      <td>2017</td>\n",
       "      <td>109.0</td>\n",
       "      <td>Drama,Music</td>\n",
       "      <td>Aug</td>\n",
       "    </tr>\n",
       "  </tbody>\n",
       "</table>\n",
       "</div>"
      ],
      "text/plain": [
       "                          release_date  production_budget  domestic_gross_x  \\\n",
       "movie                                                                         \n",
       "Blue Valentine            Dec 29, 2010            1000000           9737892   \n",
       "Unfriended: Dark Web      Jul 20, 2018            1000000           8866745   \n",
       "The Sessions              Oct 19, 2012            1000000           6002451   \n",
       "Martha Marcy May Marlene  Oct 21, 2011            1000000           2981038   \n",
       "Patti Cake$               Aug 18, 2017            1000000            800148   \n",
       "\n",
       "                          worldwide_gross   studio  foreign_gross  year  \\\n",
       "movie                                                                     \n",
       "Blue Valentine                   16566240    Wein.        2600000  2010   \n",
       "Unfriended: Dark Web             16434588  BH Tilt        6300000  2018   \n",
       "The Sessions                     11495204     FoxS        3100000  2012   \n",
       "Martha Marcy May Marlene          5438911     FoxS         548000  2011   \n",
       "Patti Cake$                       1471090     FoxS         682000  2017   \n",
       "\n",
       "                          runtime_minutes                  genres month  \n",
       "movie                                                                    \n",
       "Blue Valentine                      112.0           Drama,Romance   Dec  \n",
       "Unfriended: Dark Web                 92.0    Crime,Horror,Mystery   Jul  \n",
       "The Sessions                         95.0  Biography,Comedy,Drama   Oct  \n",
       "Martha Marcy May Marlene            102.0  Drama,Mystery,Thriller   Oct  \n",
       "Patti Cake$                         109.0             Drama,Music   Aug  "
      ]
     },
     "execution_count": 63,
     "metadata": {},
     "output_type": "execute_result"
    }
   ],
   "source": [
    "BigFrame.tail()"
   ]
  },
  {
   "cell_type": "markdown",
   "metadata": {},
   "source": [
    "# Gross Amount Sorting\n",
    "* Isolate the gross amounts according to their corresponding genres."
   ]
  },
  {
   "cell_type": "code",
   "execution_count": 17,
   "metadata": {},
   "outputs": [],
   "source": [
    "ForeignF = BigFrame.set_index(keys='foreign_gross')\n",
    "DomesticF = BigFrame.set_index(keys='domestic_gross_x')\n",
    "ForeignF['genres'] = ForeignF['genres'].str.split(',')\n",
    "DomesticF['genres'] = DomesticF['genres'].str.split(',')\n",
    "ForeignF = ForeignF.drop(columns=['worldwide_gross'], axis=1).drop(columns='domestic_gross_x')\n",
    "Domestic = DomesticF.drop(columns=['worldwide_gross'], axis=1).drop(columns='foreign_gross')\n",
    "WorldGross = BigFrame.set_index(keys='worldwide_gross').drop(columns='domestic_gross_x').drop(columns='foreign_gross')"
   ]
  },
  {
   "cell_type": "code",
   "execution_count": 18,
   "metadata": {},
   "outputs": [],
   "source": [
    "#Create a function to extract the genres from Worldwide Gross and the corresponding gross amounts. \n",
    "def getgross(g):\n",
    "    listi = []\n",
    "    for k, v in WorldGross['genres'].items():\n",
    "        if g in v:\n",
    "            listi.append(k)\n",
    "    return listi\n",
    "waction = getgross('Action')\n",
    "wcomedy = getgross('Comedy')\n",
    "wadventure = getgross('Adventure')\n",
    "wthriller = getgross('Thriller')\n",
    "wcrime = getgross('Crime')\n",
    "wromance = getgross('Romance')\n",
    "whorror = getgross('Horror')\n",
    "wscifi = getgross('Sci-Fi')\n",
    "wbiography = getgross('Biography')\n",
    "wmystery = getgross('Mystery')\n",
    "wfamily = getgross('Family')\n",
    "wmusic = getgross('Music')\n",
    "wdocumentary = getgross('Documentary')\n",
    "\n",
    "\n",
    "'''\n",
    "Find the Median of all the genres\n",
    "'''\n",
    "\n",
    "mwaction = np.median(waction)\n",
    "mwcomedy = np.median(wcomedy)\n",
    "mwadventure = np.median(wadventure)\n",
    "mwthriller = np.median(wthriller)\n",
    "mwcrime = np.median(wcrime)\n",
    "mwromance = np.median(wromance)\n",
    "mwhorror = np.median(whorror)\n",
    "mwscifi = np.median(wscifi)\n",
    "mwbiography = np.median(wbiography)\n",
    "mwmystery = np.median(wmystery)\n",
    "mwfamily = np.median(wfamily)\n",
    "mwmusic = np.median(wmusic)\n",
    "mwdocumentary = np.median(wdocumentary)"
   ]
  },
  {
   "cell_type": "code",
   "execution_count": 19,
   "metadata": {},
   "outputs": [],
   "source": [
    "#Set the medians to a list for graphing\n",
    "WorldGrossMed = [mwcomedy, mwaction, mwadventure, mwthriller, mwcrime, mwromance, mwhorror, mwscifi, mwbiography, mwmystery, mwfamily, mwmusic, mwdocumentary]\n",
    "WorldGrossMed = list(WorldGrossMed)"
   ]
  },
  {
   "cell_type": "code",
   "execution_count": 20,
   "metadata": {},
   "outputs": [],
   "source": [
    "#Create a function to extract the genres from Foreign Gross and the corresponding gross amounts. \n",
    "def getgross(g):\n",
    "    listi = []\n",
    "    for k, v in ForeignF['genres'].items():\n",
    "        if g in v:\n",
    "            listi.append(k)\n",
    "    return listi\n",
    "faction = getgross('Action')\n",
    "fcomedy = getgross('Comedy')\n",
    "fadventure = getgross('Adventure')\n",
    "fthriller = getgross('Thriller')\n",
    "fcrime = getgross('Crime')\n",
    "fromance = getgross('Romance')\n",
    "fhorror = getgross('Horror')\n",
    "fscifi = getgross('Sci-Fi')\n",
    "fbiography = getgross('Biography')\n",
    "fmystery = getgross('Mystery')\n",
    "ffamily = getgross('Family')\n",
    "fmusic = getgross('Music')\n",
    "fdocumentary = getgross('Documentary')\n",
    "\n",
    "\n",
    "'''\n",
    "Find the Median of all the genres\n",
    "'''\n",
    "\n",
    "mfaction = np.median(faction)\n",
    "mfcomedy = np.median(fcomedy)\n",
    "mfadventure = np.median(fadventure)\n",
    "mfthriller = np.median(fthriller)\n",
    "mfcrime = np.median(fcrime)\n",
    "mfromance = np.median(fromance)\n",
    "mfhorror = np.median(fhorror)\n",
    "mfscifi = np.median(fscifi)\n",
    "mfbiography = np.median(fbiography)\n",
    "mfmystery = np.median(fmystery)\n",
    "mffamily = np.median(ffamily)\n",
    "mfmusic = np.median(fmusic)\n",
    "mfdocumentary = np.median(fdocumentary)"
   ]
  },
  {
   "cell_type": "code",
   "execution_count": 21,
   "metadata": {},
   "outputs": [],
   "source": [
    "#Set the medians to a list for graphing\n",
    "ForGrossMed = [mfcomedy, mfaction, mfadventure, mfthriller, mfcrime, mfromance, mfhorror, mfscifi, mfbiography, mfmystery, mffamily, mfmusic, mfdocumentary]\n",
    "ForGrossMed = list(ForGrossMed)"
   ]
  },
  {
   "cell_type": "code",
   "execution_count": 22,
   "metadata": {},
   "outputs": [],
   "source": [
    "#Create a function to extract the genres from Domestic Gross and the corresponding gross amounts. \n",
    "def getgross(g):\n",
    "    listi = []\n",
    "    for k, v in DomesticF['genres'].items():\n",
    "        if g in v:\n",
    "            listi.append(k)\n",
    "    return listi\n",
    "daction = getgross('Action')\n",
    "dcomedy = getgross('Comedy')\n",
    "dadventure = getgross('Adventure')\n",
    "dthriller = getgross('Thriller')\n",
    "dcrime = getgross('Crime')\n",
    "dromance = getgross('Romance')\n",
    "dhorror = getgross('Horror')\n",
    "dscifi = getgross('Sci-Fi')\n",
    "dbiography = getgross('Biography')\n",
    "dmystery = getgross('Mystery')\n",
    "dfamily = getgross('Family')\n",
    "dmusic = getgross('Music')\n",
    "ddocumentary = getgross('Documentary')\n",
    "\n",
    "\n",
    "'''\n",
    "Find the Median of all the genres\n",
    "'''\n",
    "\n",
    "mdaction = np.median(daction)\n",
    "mdcomedy = np.median(dcomedy)\n",
    "mdadventure = np.median(dadventure)\n",
    "mdthriller = np.median(dthriller)\n",
    "mdcrime = np.median(dcrime)\n",
    "mdromance = np.median(dromance)\n",
    "mdhorror = np.median(dhorror)\n",
    "mdscifi = np.median(dscifi)\n",
    "mdbiography = np.median(dbiography)\n",
    "mdmystery = np.median(dmystery)\n",
    "mdfamily = np.median(dfamily)\n",
    "mdmusic = np.median(dmusic)\n",
    "mddocumentary = np.median(ddocumentary)\n"
   ]
  },
  {
   "cell_type": "code",
   "execution_count": 23,
   "metadata": {},
   "outputs": [],
   "source": [
    "#Set the medians to a list for graphing\n",
    "DomGrossMed = [mdcomedy, mdaction, mdadventure, mdthriller, mdcrime, mdromance, mdhorror, mdscifi, mdbiography, mdmystery, mdfamily, mdmusic, mddocumentary]\n",
    "DomGrossMed = list(DomGrossMed)"
   ]
  },
  {
   "cell_type": "code",
   "execution_count": 24,
   "metadata": {},
   "outputs": [],
   "source": [
    "'''\n",
    "Find the count of how many movies were made in each genre.\n",
    "'''\n",
    "action = 0\n",
    "for genre in BigFrame['genres']:\n",
    "    if 'Action' in genre:\n",
    "        action += 1\n",
    "adventure = 0\n",
    "for genre in BigFrame['genres']:\n",
    "    if 'Adventure' in genre:\n",
    "        adventure += 1\n",
    "fantasy = 0\n",
    "for genre in BigFrame['genres']:\n",
    "    if 'Fantasy' in genre:\n",
    "        fantasy += 1\n",
    "scifi = 0\n",
    "for genre in BigFrame['genres']:\n",
    "    if 'Sci' in genre:\n",
    "        scifi += 1\n",
    "thriller = 0\n",
    "for genre in BigFrame['genres']:\n",
    "    if 'Thriller' in genre:\n",
    "        thriller += 1\n",
    "romance = 0\n",
    "for genre in BigFrame['genres']:\n",
    "    if 'Romance' in genre:\n",
    "        romance += 1\n",
    "comedy = 0\n",
    "for genre in BigFrame['genres']:\n",
    "    if 'Comedy' in genre:\n",
    "        comedy += 1\n",
    "music = 0\n",
    "for genre in BigFrame['genres']:\n",
    "    if 'Music' in genre:\n",
    "        music += 1\n",
    "biography = 0\n",
    "for genre in BigFrame['genres']:\n",
    "    if 'Biography' in genre:\n",
    "        biography += 1\n",
    "horror = 0\n",
    "for genre in BigFrame['genres']:\n",
    "    if 'Horror' in genre:\n",
    "        horror += 1\n",
    "mystery = 0\n",
    "for genre in BigFrame['genres']:\n",
    "    if 'Mystery' in genre:\n",
    "        mystery += 1\n",
    "documentary = 0\n",
    "for genre in BigFrame['genres']:\n",
    "    if 'Documentary' in genre:\n",
    "        documentary += 1\n",
    "crime = 0\n",
    "for genre in BigFrame['genres']:\n",
    "    if 'Crime' in genre:\n",
    "        crime += 1\n",
    "family = 0\n",
    "for genre in BigFrame['genres']:\n",
    "    if 'Family' in genre:\n",
    "        family += 1\n",
    "\n",
    "        \n",
    "# Set items to a list for graphing, and create labels.        \n",
    "Genres = [comedy, action, adventure, thriller, crime, romance, horror, scifi, biography, mystery, family, music, documentary]\n",
    "Genres_i = ['Comedy', 'Action', 'Adventure', 'Thriller', 'Crime', 'Romance', 'Horror', 'Scifi', 'Biography', 'Mystery', 'Family', 'Music', 'Documentary']\n",
    "Genres_d = ['Comedy', 'Action', 'Adventure', 'Thriller', 'Crime', 'Romance', 'Horror', 'Scifi', 'Biography', 'Mystery', 'Family', 'Music', 'Documentary']"
   ]
  },
  {
   "cell_type": "markdown",
   "metadata": {},
   "source": [
    "## Data Modeling\n",
    "Describe and justify the process for analyzing or modeling the data.\n",
    "\n",
    "***\n",
    "Questions to consider:\n",
    "* How did you analyze or model the data?\n",
    "* How did you iterate on your initial approach to make it better?\n",
    "* Why are these choices appropriate given the data and the business problem?\n",
    "***"
   ]
  },
  {
   "cell_type": "code",
   "execution_count": 40,
   "metadata": {},
   "outputs": [
    {
     "data": {
      "text/plain": [
       "Text(0.5, 1.0, 'Genres of Movies Made Since 2001')"
      ]
     },
     "execution_count": 40,
     "metadata": {},
     "output_type": "execute_result"
    },
    {
     "data": {
      "image/png": "[encoded data removed]",
      "text/plain": [
       "<Figure size 720x360 with 1 Axes>"
      ]
     },
     "metadata": {
      "needs_background": "light"
     },
     "output_type": "display_data"
    }
   ],
   "source": [
    "fig, ax = plt.subplots(figsize=(10, 5))\n",
    "sns.barplot(x=Genres_i, y=Genres, edgecolor='black')\n",
    "ax.tick_params(axis='x', rotation=45)\n",
    "ax.set_title(\"Genres of Movies Made Since 2001\")"
   ]
  },
  {
   "cell_type": "code",
   "execution_count": 29,
   "metadata": {},
   "outputs": [
    {
     "name": "stderr",
     "output_type": "stream",
     "text": [
      "<ipython-input-29-e232a14e7d0c>:4: UserWarning: FixedFormatter should only be used together with FixedLocator\n",
      "  ax.set_yticklabels(labels=ylabelsw)\n"
     ]
    },
    {
     "data": {
      "image/png": "[encoded data removed]",
      "text/plain": [
       "<Figure size 432x432 with 1 Axes>"
      ]
     },
     "metadata": {
      "needs_background": "light"
     },
     "output_type": "display_data"
    }
   ],
   "source": [
    "fig, ax = plt.subplots(figsize=(6,6))\n",
    "ax.bar(x=Genres_i, height=WorldGrossMed,  color='Purple', edgecolor='black')\n",
    "ylabelsw = ['0', '50M', '100M', '150M', '200M', '250m', '300M'] \n",
    "ax.set_yticklabels(labels=ylabelsw)\n",
    "ax.tick_params(axis='x', rotation=45);\n",
    "ax.set_title('Worldwide Gross')\n",
    "ax.set_ylabel('Median Gross Amount')\n",
    "ax.set_xlabel('Genres');"
   ]
  },
  {
   "cell_type": "code",
   "execution_count": 27,
   "metadata": {},
   "outputs": [
    {
     "name": "stderr",
     "output_type": "stream",
     "text": [
      "<ipython-input-27-b447495a96af>:5: UserWarning: FixedFormatter should only be used together with FixedLocator\n",
      "  ax.set_yticklabels(labels=ylabels)\n"
     ]
    },
    {
     "data": {
      "image/png": "[encoded data removed]",
      "text/plain": [
       "<Figure size 432x432 with 1 Axes>"
      ]
     },
     "metadata": {
      "needs_background": "light"
     },
     "output_type": "display_data"
    }
   ],
   "source": [
    "fig, ax = plt.subplots(figsize=(6,6))\n",
    "ax.bar(x=Genres_i, height=DomGrossMed,  color='Red', edgecolor='black')\n",
    "ax.tick_params(axis='x', rotation=45);\n",
    "ylabels = ['0M', '20M', '40M', '60M', '80M', '100M']\n",
    "ax.set_yticklabels(labels=ylabels)\n",
    "ax.set_title('Domestic Gross')\n",
    "ax.set_ylabel('Median Gross Amount')\n",
    "ax.set_xlabel('Genres');"
   ]
  },
  {
   "cell_type": "code",
   "execution_count": 26,
   "metadata": {},
   "outputs": [
    {
     "name": "stderr",
     "output_type": "stream",
     "text": [
      "<ipython-input-26-2cc05d36d214>:5: UserWarning: FixedFormatter should only be used together with FixedLocator\n",
      "  ax.set_yticklabels(labels=ylabels1)\n"
     ]
    },
    {
     "data": {
      "image/png": "[encoded data removed]",
      "text/plain": [
       "<Figure size 432x432 with 1 Axes>"
      ]
     },
     "metadata": {
      "needs_background": "light"
     },
     "output_type": "display_data"
    }
   ],
   "source": [
    "fig, ax = plt.subplots(figsize=(6,6))\n",
    "ax.bar(x=Genres_d, height=ForGrossMed,  color='Blue', edgecolor='black')\n",
    "ax.tick_params(axis='x', rotation=45, )\n",
    "ylabels1 = ['0M', '25M', '50M', '75M', '100M', '125M', '150M', '175M', '200M']\n",
    "ax.set_yticklabels(labels=ylabels1)\n",
    "ax.set_title('Foreign Gross')\n",
    "ax.set_ylabel('Median Gross Amount')\n",
    "ax.set_xlabel('Genres');"
   ]
  },
  {
   "cell_type": "markdown",
   "metadata": {},
   "source": [
    "## Evaluation\n",
    "Evaluate how well your work solves the stated business problem.\n",
    "\n",
    "***\n",
    "Questions to consider:\n",
    "* How do you interpret the results?\n",
    "* How well does your model fit your data? How much better is this than your baseline model?\n",
    "* How confident are you that your results would generalize beyond the data you have?\n",
    "* How confident are you that this model would benefit the business if put into use?\n",
    "***"
   ]
  },
  {
   "cell_type": "markdown",
   "metadata": {},
   "source": [
    "## Conclusions\n",
    "Provide your conclusions about the work you've done, including any limitations or next steps.\n",
    "\n",
    "***\n",
    "Questions to consider:\n",
    "* What would you recommend the business do as a result of this work?\n",
    "* What are some reasons why your analysis might not fully solve the business problem?\n",
    "* What else could you do in the future to improve this project?\n",
    "***"
   ]
  }
 ],
 "metadata": {
  "kernelspec": {
   "display_name": "Python 3",
   "language": "python",
   "name": "python3"
  },
  "language_info": {
   "codemirror_mode": {
    "name": "ipython",
    "version": 3
   },
   "file_extension": ".py",
   "mimetype": "text/x-python",
   "name": "python",
   "nbconvert_exporter": "python",
   "pygments_lexer": "ipython3",
   "version": "3.9.2"
  }
 },
 "nbformat": 4,
 "nbformat_minor": 4
}
